{
 "cells": [
  {
   "cell_type": "markdown",
   "metadata": {},
   "source": [
    "# Regresión lineal con descenso del gradiente"
   ]
  },
  {
   "cell_type": "markdown",
   "metadata": {},
   "source": [
    "Tomado de [acá](https://jairiidriss.medium.com/gradient-descent-algorithm-from-scratch-using-python-2b36c1548917) "
   ]
  },
  {
   "cell_type": "code",
   "execution_count": 1,
   "metadata": {},
   "outputs": [],
   "source": [
    "import numpy as np\n",
    "%matplotlib inline\n",
    "from matplotlib import pyplot as plt\n",
    "from sklearn.datasets import make_regression"
   ]
  },
  {
   "cell_type": "markdown",
   "metadata": {},
   "source": [
    "Generamos uno conjunto de puntos $\\lbrace (x_i, y_i) \\rbrace$ con una tendencia. La variable $y$ depende de la variable $x$."
   ]
  },
  {
   "cell_type": "code",
   "execution_count": 2,
   "metadata": {},
   "outputs": [],
   "source": [
    "x,y = make_regression(n_features=1, n_targets=1, n_samples=300, noise=30, random_state=4)"
   ]
  },
  {
   "cell_type": "markdown",
   "metadata": {},
   "source": [
    "Veremos cómo son."
   ]
  },
  {
   "cell_type": "code",
   "execution_count": 4,
   "metadata": {},
   "outputs": [
    {
     "data": {
      "text/plain": [
       "<matplotlib.collections.PathCollection at 0x7f90bf7c7c18>"
      ]
     },
     "execution_count": 4,
     "metadata": {},
     "output_type": "execute_result"
    },
    {
     "data": {
      "image/png": "[encoded data removed]",
      "text/plain": [
       "<Figure size 720x720 with 1 Axes>"
      ]
     },
     "metadata": {
      "needs_background": "light"
     },
     "output_type": "display_data"
    }
   ],
   "source": [
    "fig = plt.figure(figsize=(10,10))\n",
    "plt.scatter(x,y, s=5)"
   ]
  },
  {
   "cell_type": "markdown",
   "metadata": {},
   "source": [
    "## Descenso del grandiente \n"
   ]
  },
  {
   "cell_type": "markdown",
   "metadata": {},
   "source": [
    "Vamos a asumir que nuestros datos se explican a través de una relación lineal\n",
    "\n",
    "$$\n",
    "y_{\\theta}(x) = \\theta_0 + \\theta_1 x = <(\\theta_0, \\theta_1),(1,x) >\n",
    "$$\n",
    "\n",
    "donde $\\theta_1$ es la pendiente que indica cuando aumenta la variable de respuesta respecto de la variable de entrada y $\\theta_0$ especifica la ordenada al origen.\n",
    "\n",
    "La expresión general del descenso del gradiente es:\n",
    "\n",
    "$$\n",
    "{\\bf{\\theta}}(t+1) = \\theta(t) - \\eta \\nabla E\n",
    "$$\n",
    "\n",
    "que especifica un proceso iterado en el que los valores de los parámetros $\\theta$ se van a actualizar dependiendo de la dirección contraria en la que aumenta la función $E$\n",
    "\n",
    "La función de error que debemos derivar es el MSE:\n",
    "\n",
    "$$\n",
    "\\begin{array}{ll}\n",
    "E  &= \\frac{1}{m} \\sum_i^m (y_{\\theta}(x) - y_i)^2\\\\\n",
    "E  &= \\frac{1}{m} \\sum_i^m ((\\theta_0 + \\theta_1 x) - y_i)^2\\\\\n",
    "\\end{array}$$\n",
    "\n",
    "Esta función pondera toda las diferencias al cuadrado entre el valor teórico ($y_i$) y el valor que cada punto obtiene bajo el modelo ($y$). \n",
    "\n",
    "Si definimos a $\\Delta_i \\equiv (y_{\\theta} - y_i)$\n",
    "\n",
    "$$\n",
    "\\begin{array}{ll}\n",
    "    \\frac {\\partial E} {\\partial \\theta_0} &= \\frac{2} {m} \\sum\\Delta_i\\\\\n",
    "    \\frac {\\partial E} {\\partial \\theta_1} &= \\frac{2} {m} \\sum\\Delta_i \\cdot x\\\\\n",
    "\\end{array}\n",
    "$$\n",
    "\n",
    "que es la expresión que debemos programar para averiguar la dirección en la que debemos movernos en el espacio de parámetros para minimizar el error. "
   ]
  },
  {
   "cell_type": "code",
   "execution_count": 106,
   "metadata": {},
   "outputs": [
    {
     "name": "stdout",
     "output_type": "stream",
     "text": [
      "Thetas [0.61353474 0.05997426]\n"
     ]
    }
   ],
   "source": [
    "m = len(x)\n",
    "lr = 0.001\n",
    "thetas = np.random.rand(x.shape[1]+1)\n",
    "print(\"Thetas {}\".format(thetas))\n",
    "predict = lambda th,x : np.dot(np.hstack((np.ones_like(x),x)),th)\n",
    "error = lambda yp, p, m : sum((yp-y)**2)/m\n",
    "\n",
    "def desc_grad(x, y, thetas_0, iters=1000, lr=0.001):\n",
    "    m = len(x)\n",
    "    yp = predict(thetas_0,x)\n",
    "    lista_error = [error(yp,y,m)]\n",
    "    T = [np.copy(thetas_0)]\n",
    "    for i in range(iters):\n",
    "        thetas = T[-1]\n",
    "        #print(thetas)\n",
    "        #idx = np.random.permutation(len(x))\n",
    "        yp = predict(thetas, x)\n",
    "        D = np.zeros_like(thetas)\n",
    "        delta = yp -y\n",
    "        D[0] = (2/m) * sum(delta)\n",
    "        D[1] = (2/m)*sum(delta*x.reshape(1,-1)[0])\n",
    "        thetas -= lr * D\n",
    "        lista_error.append(error(yp,y,m))\n",
    "        T.append(np.copy(thetas))\n",
    "    return np.array(T), lista_error"
   ]
  },
  {
   "cell_type": "markdown",
   "metadata": {},
   "source": [
    "Ahora podemos hacer la primer prediccion de todos los vectores en $x$, también podemos ver el error en el que incurre con estos primeros pesos escogidos al azar."
   ]
  },
  {
   "cell_type": "code",
   "execution_count": 107,
   "metadata": {},
   "outputs": [
    {
     "name": "stdout",
     "output_type": "stream",
     "text": [
      "[0.61353474 0.05997426]\n",
      "2137.9004979960464\n"
     ]
    }
   ],
   "source": [
    "print(thetas)\n",
    "yp = predict(thetas,x)\n",
    "print(error(yp,y,m))"
   ]
  },
  {
   "cell_type": "markdown",
   "metadata": {},
   "source": [
    "Corremos nuestro algoritmo durante 5000 iteraciones"
   ]
  },
  {
   "cell_type": "code",
   "execution_count": 121,
   "metadata": {},
   "outputs": [],
   "source": [
    "T, E =  desc_grad(x,y, thetas, iters=5000, lr=0.001)"
   ]
  },
  {
   "cell_type": "markdown",
   "metadata": {},
   "source": [
    "Los pesos que nos interesan están en la última entrada de la variable T"
   ]
  },
  {
   "cell_type": "code",
   "execution_count": 122,
   "metadata": {},
   "outputs": [
    {
     "data": {
      "text/plain": [
       "array([ 1.96708545, 36.39113358])"
      ]
     },
     "execution_count": 122,
     "metadata": {},
     "output_type": "execute_result"
    }
   ],
   "source": [
    "T[-1]"
   ]
  },
  {
   "cell_type": "markdown",
   "metadata": {},
   "source": [
    "También podemos ver cuánto cambió el error desde la primer iteración a la última"
   ]
  },
  {
   "cell_type": "code",
   "execution_count": 123,
   "metadata": {},
   "outputs": [
    {
     "data": {
      "text/plain": [
       "(2137.9004979960464, 815.1032595937602)"
      ]
     },
     "execution_count": 123,
     "metadata": {},
     "output_type": "execute_result"
    }
   ],
   "source": [
    "E[0], E[-1]"
   ]
  },
  {
   "cell_type": "markdown",
   "metadata": {},
   "source": [
    "Grafiquemos ahora el resultado."
   ]
  },
  {
   "cell_type": "code",
   "execution_count": 124,
   "metadata": {},
   "outputs": [
    {
     "data": {
      "text/plain": [
       "[<matplotlib.lines.Line2D at 0x7f90bda67ba8>]"
      ]
     },
     "execution_count": 124,
     "metadata": {},
     "output_type": "execute_result"
    },
    {
     "data": {
      "image/png": "[encoded data removed]",
      "text/plain": [
       "<Figure size 432x288 with 1 Axes>"
      ]
     },
     "metadata": {
      "needs_background": "light"
     },
     "output_type": "display_data"
    }
   ],
   "source": [
    "plt.scatter(x,y,s=1)\n",
    "yp = predict(T[-1], x)\n",
    "yp1 = predict(T[0], x)\n",
    "plt.plot(x,yp, 'r')\n",
    "plt.plot(x,yp1,'orange')\n"
   ]
  },
  {
   "cell_type": "code",
   "execution_count": 128,
   "metadata": {},
   "outputs": [
    {
     "data": {
      "text/plain": [
       "[<matplotlib.lines.Line2D at 0x7f90bcf76cf8>]"
      ]
     },
     "execution_count": 128,
     "metadata": {},
     "output_type": "execute_result"
    },
    {
     "data": {
      "image/png": "[encoded data removed]",
      "text/plain": [
       "<Figure size 432x288 with 1 Axes>"
      ]
     },
     "metadata": {
      "needs_background": "light"
     },
     "output_type": "display_data"
    }
   ],
   "source": [
    "plt.plot(E[:2000])"
   ]
  },
  {
   "cell_type": "code",
   "execution_count": 126,
   "metadata": {},
   "outputs": [
    {
     "data": {
      "text/plain": [
       "<matplotlib.colorbar.Colorbar at 0x7f90bdd82908>"
      ]
     },
     "execution_count": 126,
     "metadata": {},
     "output_type": "execute_result"
    },
    {
     "data": {
      "image/png": "[encoded data removed]",
      "text/plain": [
       "<Figure size 432x288 with 2 Axes>"
      ]
     },
     "metadata": {
      "needs_background": "light"
     },
     "output_type": "display_data"
    }
   ],
   "source": [
    "C =np.arange(len(T))/100\n",
    "plt.scatter(T[:,0], T[:,1], s=C, c=C)\n",
    "plt.colorbar()"
   ]
  },
  {
   "cell_type": "code",
   "execution_count": null,
   "metadata": {},
   "outputs": [],
   "source": []
  },
  {
   "cell_type": "code",
   "execution_count": null,
   "metadata": {},
   "outputs": [],
   "source": []
  }
 ],
 "metadata": {
  "kernelspec": {
   "display_name": "Python 3",
   "language": "python",
   "name": "python3"
  },
  "language_info": {
   "codemirror_mode": {
    "name": "ipython",
    "version": 3
   },
   "file_extension": ".py",
   "mimetype": "text/x-python",
   "name": "python",
   "nbconvert_exporter": "python",
   "pygments_lexer": "ipython3",
   "version": "3.6.9"
  },
  "varInspector": {
   "cols": {
    "lenName": 16,
    "lenType": 16,
    "lenVar": 40
   },
   "kernels_config": {
    "python": {
     "delete_cmd_postfix": "",
     "delete_cmd_prefix": "del ",
     "library": "var_list.py",
     "varRefreshCmd": "print(var_dic_list())"
    },
    "r": {
     "delete_cmd_postfix": ") ",
     "delete_cmd_prefix": "rm(",
     "library": "var_list.r",
     "varRefreshCmd": "cat(var_dic_list()) "
    }
   },
   "types_to_exclude": [
    "module",
    "function",
    "builtin_function_or_method",
    "instance",
    "_Feature"
   ],
   "window_display": false
  }
 },
 "nbformat": 4,
 "nbformat_minor": 4
}
