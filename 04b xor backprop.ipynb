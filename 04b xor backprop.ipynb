{
 "cells": [
  {
   "cell_type": "markdown",
   "metadata": {},
   "source": [
    "# XOR - Perceptrón y Retroprop"
   ]
  },
  {
   "cell_type": "markdown",
   "metadata": {},
   "source": [
    "Vamos a constuir un perceptrón multicapa para entrenarlo a reconocer la tabla del XOR pero esta vez no asumiremos nada de los pesos y dejaremos que el algoritmo de retropropagación lo encuentre."
   ]
  },
  {
   "cell_type": "code",
   "execution_count": 1,
   "metadata": {},
   "outputs": [],
   "source": [
    "from __future__ import absolute_import\n",
    "from __future__ import print_function\n",
    "from six.moves import range\n",
    "from six.moves import zip\n",
    "from numpy import hstack,exp,dot,ones,tanh,mean,abs,array\n",
    "import numpy as np\n",
    "import sys\n"
   ]
  },
  {
   "cell_type": "markdown",
   "metadata": {},
   "source": [
    "## Perceptrón multicapa "
   ]
  },
  {
   "cell_type": "markdown",
   "metadata": {},
   "source": [
    "Aquí definiremos las funciones que vamos a estar ocupando"
   ]
  },
  {
   "cell_type": "code",
   "execution_count": 2,
   "metadata": {},
   "outputs": [],
   "source": [
    "def fact(f='sigmoide'):\n",
    "    if f=='sigmoide':\n",
    "        return [lambda x: 1./(1+exp(-x)), lambda y: y*(1-y)]\n",
    "    elif f=='tanh':\n",
    "        return [tanh, lambda y: 1 - y**2]\n",
    "    elif f=='ident':\n",
    "        return [lambda x: x, lambda y: 1]\n",
    "    elif f=='relu':\n",
    "        return [lambda x: max(0,x), lambda x: (0,1)]\n",
    "\n",
    "def creapesos( arq ):\n",
    "    en,hn,sn = arq\n",
    "    Wh = 2*np.random.random( (en+1,hn) )-1\n",
    "    Ws = 2*np.random.random( (hn,sn) )-1\n",
    "    return [Wh, Ws]\n",
    "\n",
    "\n",
    "def ff(estimulo,pesos):\n",
    "    \"\"\"\n",
    "    predicción de la red\n",
    "    Función feed-forward que hace la predicción en el estíumulo \n",
    "    en el parámetro con los pesos especificados.\n",
    "    \"\"\"    \n",
    "    Wh, Ws = pesos\n",
    "    I = hstack((-1*ones((len(estimulo),1)),estimulo))\n",
    "    H = fh(dot(I,Wh))\n",
    "    S = fs(dot(H,Ws))\n",
    "    return S\n"
   ]
  },
  {
   "cell_type": "markdown",
   "metadata": {},
   "source": [
    "Como vamos a usar el descenso del gradiente con retropropagación, requerimos entonces un método que reciba los pesos origniales y que los actualice iteradamente."
   ]
  },
  {
   "cell_type": "code",
   "execution_count": 3,
   "metadata": {},
   "outputs": [],
   "source": [
    "def entrena(X,iters,alfa,pesos,iterr=1000,verbose=False):\n",
    "    Wh, Ws  = pesos\n",
    "    for j in range(iters):\n",
    "        #agregamos nodo sesgo\n",
    "        I = hstack((-1*ones((len(X[:]),1)), X[:]))\n",
    "        #feedforward\n",
    "        H = fh(dot(I,Wh))\n",
    "        #H = hstack((-1*ones((len(H),1)),H))\n",
    "        #print(\"H y Ws shapes\\n{} {}\".format(H.shape, Ws.shape))\n",
    "        S = fs(dot(H,Ws))\n",
    "        #error de la capa de salida\n",
    "        S_err = S - Y\n",
    "        #delta capa salida\n",
    "        S_d = S_err*dfs(S)\n",
    "        #error capa escondida\n",
    "        H_err = dot(S_d,Ws.T)\n",
    "        #delta capa escondida\n",
    "        H_d = H_err*dfh(H)\n",
    "        #actualizamos pesos\n",
    "        Ws    -= alfa * (dot(H.T,S_d))\n",
    "        Wh    -= alfa * (dot(I.T,H_d))\n",
    "        if(verbose):\n",
    "            if((iterr>0) and (j%iterr==0)):\n",
    "                print(mean(abs(S_err)))\n",
    "    return [Wh,Ws]\n"
   ]
  },
  {
   "cell_type": "markdown",
   "metadata": {},
   "source": [
    "## Datos\n",
    "\n",
    "Nuestros datos a usar es simplemente la tabla del XOR."
   ]
  },
  {
   "cell_type": "code",
   "execution_count": 4,
   "metadata": {},
   "outputs": [
    {
     "name": "stdout",
     "output_type": "stream",
     "text": [
      "[0 0] : [0]\n",
      "[0 1] : [1]\n",
      "[1 0] : [1]\n",
      "[1 1] : [0]\n"
     ]
    }
   ],
   "source": [
    "xor = array( [[0,0,0],[0,1,1],[1,0,1],[1,1,0]] )\n",
    "X = xor[:,:-1]\n",
    "Y = xor[:,-1].reshape(-1,1)\n",
    "for x, y in zip(X,Y):\n",
    "    print(\"{} : {}\".format(x,y))"
   ]
  },
  {
   "cell_type": "markdown",
   "metadata": {},
   "source": [
    "## Definición y entrenamiento."
   ]
  },
  {
   "cell_type": "code",
   "execution_count": 5,
   "metadata": {},
   "outputs": [
    {
     "name": "stdout",
     "output_type": "stream",
     "text": [
      "alfa: 0.1\n",
      "iteraciones: 5000\n",
      "arquitectura: 2 3 1\n",
      "pesos primera capa: (3, 3) sigmoide\n",
      "pesos segunda capa: (3, 1) sigmoide\n",
      "Datos \n",
      "[[0 0]\n",
      " [0 1]\n",
      " [1 0]\n",
      " [1 1]]\n"
     ]
    }
   ],
   "source": [
    "tipocapa1=\"sigmoide\"\n",
    "tipocapa2=\"sigmoide\"\n",
    "f1, f2 = fact(tipocapa1), fact(tipocapa2)\n",
    "fh, dfh = f1\n",
    "fs, dfs = f2\n",
    "\n",
    "#arquitectura\n",
    "# como recibimos un par ordenado y queremos predecir su\n",
    "# etiqueta entonces nuestra red empieza siendo\n",
    "# (2 , h, 1)\n",
    "# h la especificamos como 5\n",
    "intermedias = 3\n",
    "en, hn, sn = ( X.shape[1], intermedias, Y.shape[1] )\n",
    "\n",
    "cons_aprendizaje = 0.1\n",
    "iteraciones = 5000\n",
    "alfa, iters = (cons_aprendizaje, iteraciones)\n",
    "en, hn, sn = ( X.shape[1], intermedias, Y.shape[1] )\n",
    "Wh, Ws = creapesos( (en,hn,sn) )\n",
    "print(\"alfa: {}\".format(alfa))\n",
    "print(\"iteraciones: {}\".format(iters))\n",
    "print(\"arquitectura: {} {} {}\".format(en,hn,sn))\n",
    "print(\"pesos primera capa: {} {}\".format(Wh.shape,tipocapa1))\n",
    "print(\"pesos segunda capa: {} {}\".format(Ws.shape,tipocapa2))\n",
    "print(\"Datos \\n{}\".format(X))\n"
   ]
  },
  {
   "cell_type": "markdown",
   "metadata": {},
   "source": [
    "Previo al entrenamiento tenemos esto"
   ]
  },
  {
   "cell_type": "code",
   "execution_count": 6,
   "metadata": {},
   "outputs": [
    {
     "name": "stdout",
     "output_type": "stream",
     "text": [
      "Error 1.1044533361775362\n"
     ]
    }
   ],
   "source": [
    "err = 0.\n",
    "for x,y in zip(ff(X,[Wh,Ws]),Y):\n",
    "    err += (y-x)**2\n",
    "print(\"Error {}\".format(err.mean(axis=0)))\n"
   ]
  },
  {
   "cell_type": "markdown",
   "metadata": {},
   "source": [
    "Entrenamos la red \n"
   ]
  },
  {
   "cell_type": "code",
   "execution_count": 7,
   "metadata": {},
   "outputs": [],
   "source": [
    "#entrenamos\n",
    "pesos_t = entrena(X,iteraciones,alfa,[Wh,Ws])\n"
   ]
  },
  {
   "cell_type": "markdown",
   "metadata": {},
   "source": [
    "La red entrenada ahora computa así cada estímulo"
   ]
  },
  {
   "cell_type": "code",
   "execution_count": 8,
   "metadata": {},
   "outputs": [
    {
     "name": "stdout",
     "output_type": "stream",
     "text": [
      "\n",
      "Red Entrenada\n",
      "Error 0.8944382702827365\n",
      "\n"
     ]
    }
   ],
   "source": [
    "print(\"\\nRed Entrenada\")\n",
    "err = 0.\n",
    "for x,y in zip(ff(X,pesos_t),Y):\n",
    "    err += (y-x)**2\n",
    "print(\"Error {}\\n\".format(err.mean(axis=0)))"
   ]
  },
  {
   "cell_type": "code",
   "execution_count": 9,
   "metadata": {},
   "outputs": [
    {
     "name": "stdout",
     "output_type": "stream",
     "text": [
      "x: [0] <-> [0.] : y\n",
      "x: [1] <-> [0.] : y\n",
      "x: [1] <-> [1.] : y\n",
      "x: [0] <-> [0.] : y\n"
     ]
    }
   ],
   "source": [
    "for x,y in zip(Y, ff(X,pesos_t)):\n",
    "    print(\"x: {} <-> {} : y\".format(x,np.round(y)))"
   ]
  },
  {
   "cell_type": "markdown",
   "metadata": {},
   "source": [
    "Los pesos se ven ahora como:"
   ]
  },
  {
   "cell_type": "code",
   "execution_count": 10,
   "metadata": {},
   "outputs": [
    {
     "name": "stdout",
     "output_type": "stream",
     "text": [
      "pesos primera capa \n",
      "[[-0.72298219  1.61404408 -0.22039265]\n",
      " [ 0.8822531   1.74003315  0.42172193]\n",
      " [ 1.03991576 -2.00568781 -0.27610934]]\n",
      "pesos segunda capa \n",
      "[[ 0.45862118]\n",
      " [ 1.7632125 ]\n",
      " [-1.30133942]]\n"
     ]
    }
   ],
   "source": [
    "print(\"pesos primera capa \\n{0}\".format(pesos_t[0]))\n",
    "print(\"pesos segunda capa \\n{0}\".format(pesos_t[1]))"
   ]
  },
  {
   "cell_type": "code",
   "execution_count": null,
   "metadata": {},
   "outputs": [],
   "source": []
  }
 ],
 "metadata": {
  "kernelspec": {
   "display_name": "Python 3",
   "language": "python",
   "name": "python3"
  },
  "language_info": {
   "codemirror_mode": {
    "name": "ipython",
    "version": 3
   },
   "file_extension": ".py",
   "mimetype": "text/x-python",
   "name": "python",
   "nbconvert_exporter": "python",
   "pygments_lexer": "ipython3",
   "version": "3.6.9"
  },
  "varInspector": {
   "cols": {
    "lenName": 16,
    "lenType": 16,
    "lenVar": 40
   },
   "kernels_config": {
    "python": {
     "delete_cmd_postfix": "",
     "delete_cmd_prefix": "del ",
     "library": "var_list.py",
     "varRefreshCmd": "print(var_dic_list())"
    },
    "r": {
     "delete_cmd_postfix": ") ",
     "delete_cmd_prefix": "rm(",
     "library": "var_list.r",
     "varRefreshCmd": "cat(var_dic_list()) "
    }
   },
   "types_to_exclude": [
    "module",
    "function",
    "builtin_function_or_method",
    "instance",
    "_Feature"
   ],
   "window_display": false
  }
 },
 "nbformat": 4,
 "nbformat_minor": 4
}
