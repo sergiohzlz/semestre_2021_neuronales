{
 "cells": [
  {
   "cell_type": "markdown",
   "metadata": {},
   "source": [
    "# XOR - Perceptrón y Retroprop"
   ]
  },
  {
   "cell_type": "markdown",
   "metadata": {},
   "source": [
    "Vamos a constuir un perceptrón multicapa para entrenarlo a reconocer la tabla del XOR pero esta vez no asumiremos nada de los pesos y dejaremos que el algoritmo de retropropagación lo encuentre."
   ]
  },
  {
   "cell_type": "code",
   "execution_count": 1,
   "metadata": {},
   "outputs": [],
   "source": [
    "from __future__ import absolute_import\n",
    "from __future__ import print_function\n",
    "from six.moves import range\n",
    "from six.moves import zip\n",
    "from numpy import hstack,exp,dot,ones,tanh,mean,abs,array\n",
    "import numpy as np\n",
    "import sys\n"
   ]
  },
  {
   "cell_type": "markdown",
   "metadata": {},
   "source": [
    "## Perceptrón multicapa "
   ]
  },
  {
   "cell_type": "markdown",
   "metadata": {},
   "source": [
    "Aquí definiremos las funciones que vamos a estar ocupando"
   ]
  },
  {
   "cell_type": "code",
   "execution_count": 43,
   "metadata": {},
   "outputs": [],
   "source": [
    "def fact(f='sigmoide'):\n",
    "    if f=='sigmoide':\n",
    "        return [lambda x: 1./(1+exp(-x)), lambda y: y*(1-y)]\n",
    "    elif f=='tanh':\n",
    "        return [tanh, lambda y: 1 - y**2]\n",
    "    elif f=='ident':\n",
    "        return [lambda x: x, lambda y: 1]\n",
    "\n",
    "def creapesos( arq ):\n",
    "    en,hn,sn = arq\n",
    "    Wh = 2*np.random.random( (en+1,hn) )-1\n",
    "    Ws = 2*np.random.random( (hn,sn) )-1\n",
    "    return [Wh, Ws]\n",
    "\n",
    "\n",
    "def ff(estimulo,pesos):\n",
    "    \"\"\"\n",
    "    predicción de la red\n",
    "    Función feed-forward que hace la predicción en el estíumulo \n",
    "    en el parámetro con los pesos especificados.\n",
    "    \"\"\"    \n",
    "    Wh, Ws = pesos\n",
    "    I = hstack((-1*ones((len(estimulo),1)),estimulo))\n",
    "    H = fh(dot(I,Wh))\n",
    "    S = fs(dot(H,Ws))\n",
    "    return S\n"
   ]
  },
  {
   "cell_type": "markdown",
   "metadata": {},
   "source": [
    "Como vamos a usar el descenso del gradiente con retropropagación, requerimos entonces un método que reciba los pesos origniales y que los actualice iteradamente."
   ]
  },
  {
   "cell_type": "code",
   "execution_count": 44,
   "metadata": {},
   "outputs": [],
   "source": [
    "def entrena(X,iters,alfa,pesos,iterr=1000,verbose=False):\n",
    "    Wh, Ws  = pesos\n",
    "    for j in range(iters):\n",
    "        #agregamos nodo sesgo\n",
    "        I = hstack((-1*ones((len(X[:]),1)), X[:]))\n",
    "        #feedforward\n",
    "        H = fh(dot(I,Wh))\n",
    "        #H = hstack((-1*ones((len(H),1)),H))\n",
    "        #print(\"H y Ws shapes\\n{} {}\".format(H.shape, Ws.shape))\n",
    "        S = fs(dot(H,Ws))\n",
    "        #error de la capa de salida\n",
    "        S_err = S - Y\n",
    "        #delta capa salida\n",
    "        S_d = S_err*dfs(S)\n",
    "        #error capa escondida\n",
    "        H_err = dot(S_d,Ws.T)\n",
    "        #delta capa escondida\n",
    "        H_d = H_err*dfh(H)\n",
    "        #actualizamos pesos\n",
    "        Ws    -= alfa * (dot(H.T,S_d))\n",
    "        Wh    -= alfa * (dot(I.T,H_d))\n",
    "        if(verbose):\n",
    "            if((iterr>0) and (j%iterr==0)):\n",
    "                print(mean(abs(S_err)))\n",
    "    return [Wh,Ws]\n"
   ]
  },
  {
   "cell_type": "markdown",
   "metadata": {},
   "source": [
    "## Datos\n",
    "\n",
    "Nuestros datos a usar es simplemente la tabla del XOR."
   ]
  },
  {
   "cell_type": "code",
   "execution_count": 63,
   "metadata": {},
   "outputs": [
    {
     "name": "stdout",
     "output_type": "stream",
     "text": [
      "[0 0] : [0]\n",
      "[0 1] : [1]\n",
      "[1 0] : [1]\n",
      "[1 1] : [0]\n"
     ]
    }
   ],
   "source": [
    "xor = array( [[0,0,0],[0,1,1],[1,0,1],[1,1,0]] )\n",
    "X = xor[:,:-1]\n",
    "Y = xor[:,-1].reshape(-1,1)\n",
    "for x, y in zip(X,Y):\n",
    "    print(\"{} : {}\".format(x,y))"
   ]
  },
  {
   "cell_type": "markdown",
   "metadata": {},
   "source": [
    "## Definición y entrenamiento."
   ]
  },
  {
   "cell_type": "code",
   "execution_count": 70,
   "metadata": {},
   "outputs": [
    {
     "name": "stdout",
     "output_type": "stream",
     "text": [
      "alfa: 0.1\n",
      "iteraciones: 5000\n",
      "arquitectura: 2 5 1\n",
      "pesos primera capa: (3, 5) sigmoide\n",
      "pesos segunda capa: (5, 1) sigmoide\n",
      "Datos \n",
      "[[0 0]\n",
      " [0 1]\n",
      " [1 0]\n",
      " [1 1]]\n"
     ]
    }
   ],
   "source": [
    "tipocapa1=\"sigmoide\"\n",
    "tipocapa2=\"sigmoide\"\n",
    "f1, f2 = fact(tipocapa1), fact(tipocapa2)\n",
    "fh, dfh = f1\n",
    "fs, dfs = f2\n",
    "\n",
    "#arquitectura\n",
    "# como recibimos un par ordenado y queremos predecir su\n",
    "# etiqueta entonces nuestra red empieza siendo\n",
    "# (2 , h, 1)\n",
    "# h la especificamos como 5\n",
    "intermedias = 5\n",
    "en, hn, sn = ( X.shape[1], intermedias, Y.shape[1] )\n",
    "\n",
    "cons_aprendizaje = 0.1\n",
    "iteraciones = 5000\n",
    "alfa, iters = (cons_aprendizaje, iteraciones)\n",
    "en, hn, sn = ( X.shape[1], intermedias, Y.shape[1] )\n",
    "Wh, Ws = creapesos( (en,hn,sn) )\n",
    "print(\"alfa: {}\".format(alfa))\n",
    "print(\"iteraciones: {}\".format(iters))\n",
    "print(\"arquitectura: {} {} {}\".format(en,hn,sn))\n",
    "print(\"pesos primera capa: {} {}\".format(Wh.shape,tipocapa1))\n",
    "print(\"pesos segunda capa: {} {}\".format(Ws.shape,tipocapa2))\n",
    "print(\"Datos \\n{}\".format(X))\n"
   ]
  },
  {
   "cell_type": "markdown",
   "metadata": {},
   "source": [
    "Previo al entrenamiento tenemos esto"
   ]
  },
  {
   "cell_type": "code",
   "execution_count": 71,
   "metadata": {},
   "outputs": [
    {
     "name": "stdout",
     "output_type": "stream",
     "text": [
      "Error 1.0508473440379815\n"
     ]
    }
   ],
   "source": [
    "err = 0.\n",
    "for x,y in zip(ff(X,[Wh,Ws]),Y):\n",
    "    err += (y-x)**2\n",
    "print(\"Error {}\".format(err.mean(axis=0)))\n"
   ]
  },
  {
   "cell_type": "markdown",
   "metadata": {},
   "source": [
    "Entrenamos la red \n"
   ]
  },
  {
   "cell_type": "code",
   "execution_count": 72,
   "metadata": {},
   "outputs": [],
   "source": [
    "#entrenamos\n",
    "pesos_t = entrena(X,iteraciones,alfa,[Wh,Ws])\n"
   ]
  },
  {
   "cell_type": "markdown",
   "metadata": {},
   "source": [
    "La red entrenada ahora computa así cada estímulo"
   ]
  },
  {
   "cell_type": "code",
   "execution_count": 73,
   "metadata": {},
   "outputs": [
    {
     "name": "stdout",
     "output_type": "stream",
     "text": [
      "\n",
      "Red Entrenada\n",
      "Error 0.032176453675260494\n",
      "\n"
     ]
    }
   ],
   "source": [
    "print(\"\\nRed Entrenada\")\n",
    "err = 0.\n",
    "for x,y in zip(ff(X,pesos_t),Y):\n",
    "    err += (y-x)**2\n",
    "print(\"Error {}\\n\".format(err.mean(axis=0)))"
   ]
  },
  {
   "cell_type": "code",
   "execution_count": 74,
   "metadata": {},
   "outputs": [
    {
     "name": "stdout",
     "output_type": "stream",
     "text": [
      "x: [0] <-> [0.08174302] : y\n",
      "x: [1] <-> [0.90787719] : y\n",
      "x: [1] <-> [0.91693318] : y\n",
      "x: [0] <-> [0.10053767] : y\n"
     ]
    }
   ],
   "source": [
    "for x,y in zip(Y, ff(X,pesos_t)):\n",
    "    print(\"x: {} <-> {} : y\".format(x,y))"
   ]
  },
  {
   "cell_type": "markdown",
   "metadata": {},
   "source": [
    "Los pesos se ven ahora como:"
   ]
  },
  {
   "cell_type": "code",
   "execution_count": 69,
   "metadata": {},
   "outputs": [
    {
     "name": "stdout",
     "output_type": "stream",
     "text": [
      "pesos primera capa \n",
      "[[ 1.34379603 -1.02133875  1.66356436 -2.57185979  0.91562941]\n",
      " [ 3.2340481  -4.33674384 -5.28522011 -5.49155552 -3.76135742]\n",
      " [-4.40447549 -4.30628457  3.82593696  6.34551723  2.31776561]]\n",
      "pesos segunda capa \n",
      "[[ 6.34516734]\n",
      " [-4.97512465]\n",
      " [ 8.28603427]\n",
      " [-6.55901425]\n",
      " [ 5.54380574]]\n"
     ]
    }
   ],
   "source": [
    "print(\"pesos primera capa \\n{0}\".format(pesos_t[0]))\n",
    "print(\"pesos segunda capa \\n{0}\".format(pesos_t[1]))"
   ]
  },
  {
   "cell_type": "code",
   "execution_count": null,
   "metadata": {},
   "outputs": [],
   "source": []
  }
 ],
 "metadata": {
  "kernelspec": {
   "display_name": "Python 3",
   "language": "python",
   "name": "python3"
  },
  "language_info": {
   "codemirror_mode": {
    "name": "ipython",
    "version": 3
   },
   "file_extension": ".py",
   "mimetype": "text/x-python",
   "name": "python",
   "nbconvert_exporter": "python",
   "pygments_lexer": "ipython3",
   "version": "3.6.9"
  },
  "varInspector": {
   "cols": {
    "lenName": 16,
    "lenType": 16,
    "lenVar": 40
   },
   "kernels_config": {
    "python": {
     "delete_cmd_postfix": "",
     "delete_cmd_prefix": "del ",
     "library": "var_list.py",
     "varRefreshCmd": "print(var_dic_list())"
    },
    "r": {
     "delete_cmd_postfix": ") ",
     "delete_cmd_prefix": "rm(",
     "library": "var_list.r",
     "varRefreshCmd": "cat(var_dic_list()) "
    }
   },
   "types_to_exclude": [
    "module",
    "function",
    "builtin_function_or_method",
    "instance",
    "_Feature"
   ],
   "window_display": false
  }
 },
 "nbformat": 4,
 "nbformat_minor": 4
}
