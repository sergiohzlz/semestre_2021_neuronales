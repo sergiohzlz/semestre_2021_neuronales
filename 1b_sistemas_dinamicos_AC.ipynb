{
 "cells": [
  {
   "cell_type": "markdown",
   "metadata": {},
   "source": [
    "# Sistemas dinámicos 2\n"
   ]
  },
  {
   "cell_type": "markdown",
   "metadata": {},
   "source": [
    "Vamos a continuar la plática de sistemsa dinámicos y atractores pero con el ejemplo específico de los autómatas celulares."
   ]
  },
  {
   "cell_type": "markdown",
   "metadata": {},
   "source": [
    "## Autómatas celulares"
   ]
  },
  {
   "cell_type": "markdown",
   "metadata": {},
   "source": [
    "Ya habíamos dicho que son modelos de cómputo y que consisten en una malla $M$ dimensional en donde cada una de las entradas $c_i$ de la malla puede tomar $n$ posibles estados. Un ejemplo de estos sistemas dinámicos son los elementales que tienen vecindad de $k=1$ y los estados que pueden tomar son $\\Sigma = \\lbrace 0,1 \\rbrace$\n",
    "\n",
    "$$c^{t+1}_{r} = f(c^{t}_{r-k}, \\ldots , c^{t}_{r}, \\ldots, c^{t}_{r+k}) $$"
   ]
  },
  {
   "cell_type": "code",
   "execution_count": 21,
   "metadata": {},
   "outputs": [],
   "source": [
    "import sys\n",
    "from random import choice\n",
    "from numpy import array, dot, zeros, hstack, ndarray\n",
    "import matplotlib\n",
    "%matplotlib inline\n",
    "\n",
    "import matplotlib.pyplot as plt\n"
   ]
  },
  {
   "cell_type": "markdown",
   "metadata": {},
   "source": [
    "Una referencia útil para entender autómatas celulares es Illachinsky o bien \n",
    "The Nature of code que se pued encontrar en la siguiente liga [NofC](https://natureofcode.com/book/chapter-7-cellular-automata/)"
   ]
  },
  {
   "cell_type": "code",
   "execution_count": 42,
   "metadata": {},
   "outputs": [
    {
     "name": "stdout",
     "output_type": "stream",
     "text": [
      "(100,)\n",
      "(200, 100)\n"
     ]
    }
   ],
   "source": [
    "\n",
    "def regla(numero):\n",
    "    \"\"\"\n",
    "    Crea una regla de un ACE a partir del número en el parámetro\n",
    "    y regresa la cadena equivalente en binario a 8 bits.\n",
    "    \"\"\"\n",
    "    binario = bin(numero)\n",
    "    rtxt = '0'*7 + binario[2:]\n",
    "    return rtxt[-8:]\n",
    "def creamatriz(N,L):\n",
    "    \"\"\"\n",
    "    Crea una matriz de (N,L)\n",
    "    param N columnas\n",
    "    param L filas\n",
    "    \"\"\"\n",
    "    M = [[0]*N] *L\n",
    "    return array(M)\n",
    "def regla_idx(r, i):\n",
    "    \"\"\"\n",
    "    Regresa la entrada i de la regla \n",
    "    \"\"\"\n",
    "    rr = ''.join(list(reversed(list(r))))\n",
    "    n = int(i,2)\n",
    "    return rr[n]\n",
    "def itera_regla(regla, vector):\n",
    "    L = len(vector)\n",
    "    C = []\n",
    "    R = []\n",
    "    for j in range(L):\n",
    "        contxt =  str(vector[(j-1)%L]) + str(vector[j]) + str( vector[(j+1)%10] )\n",
    "        C.append(contxt)\n",
    "    for c in  C:\n",
    "        R.append( int(regla_idx( regla, c )) )\n",
    "    return R\n",
    "\n",
    "#Creamos una amtrix de 100 x 200 \n",
    "N = 100\n",
    "L = 200\n",
    "M = creamatriz(N,L)\n",
    "v = np.array([choice([0,1]) for i in range(N)])\n",
    "print(v.shape)\n",
    "M[0] = v\n",
    "print(M.shape)\n",
    "#aplicamos la regla 20 a lo largo de la matriz M con condicion inicial\n",
    "#al azar\n",
    "regla = regla(20)\n",
    "for idx in range(1,len(M)):\n",
    "    v = M[idx-1]\n",
    "    vn = array( itera_regla( regla, v ) )\n",
    "    M[idx] =vn\n"
   ]
  },
  {
   "cell_type": "code",
   "execution_count": 43,
   "metadata": {},
   "outputs": [
    {
     "data": {
      "text/plain": [
       "<matplotlib.image.AxesImage at 0x7f11e192a6a0>"
      ]
     },
     "execution_count": 43,
     "metadata": {},
     "output_type": "execute_result"
    },
    {
     "data": {
      "image/png": "[encoded data removed]",
      "text/plain": [
       "<Figure size 1440x1440 with 1 Axes>"
      ]
     },
     "metadata": {
      "needs_background": "light"
     },
     "output_type": "display_data"
    }
   ],
   "source": [
    "fig = plt.figure(figsize=(20,20))\n",
    "plt.imshow(M)\n"
   ]
  },
  {
   "cell_type": "markdown",
   "metadata": {},
   "source": [
    "Stephen Wolfram propuso una clasificación para estos 256 autómatas de los cuales los dividió en estas clases\n",
    "\n",
    "Clase | Característica \n",
    "------|---------------\n",
    "1     | Punto fijo\n",
    "2     | Ciclo límite\n",
    "3     | Azar \n",
    "4     | Complejos \n",
    "\n",
    "Que son una clasificación demasiado general pero esencialmente la primera indica que después de unas actualizaciones, las configuraciones alcanzadas son todas la misma. La segunda presenta configuraciones periódicas $(t \\ge 2)$ y la tercer clase no parece mostrar una regularidad significativa. La 4a clase se hipotetiza que puede implementar cómputo universal y se sabe que la regla 110 es una de las reglas que pertenecen a esta clase."
   ]
  },
  {
   "cell_type": "markdown",
   "metadata": {},
   "source": [
    "A continuación puedes ver un arreglo con los 256 autómatas celulares posibles con una condición inicial al azar.\n",
    "<img src=\"todos.png\" width=75%>"
   ]
  },
  {
   "cell_type": "markdown",
   "metadata": {},
   "source": [
    "Los autómatas celulares tienen muchas aplicaciones, particularmente dentro del cómputo numérico, simulación computacional aunque también existen aplicaciones dentro de la criptografía y procesamiento de imágenes.\n"
   ]
  },
  {
   "cell_type": "markdown",
   "metadata": {},
   "source": [
    "## Redes booleanas aleatorias\n",
    "\n",
    "Una de  las aplicaciones de los autómatas en la biología son las redes booleanas aleatorias. Se describen como una gráfica dirigida $G = (V,E)$ en la que cada nodo representa una configuración de genes prendidos o apagados, es decir toman valores de {0, 1}. Las conexiones entre los nodos pueden ser de dos tipos son simplemente una transición \n",
    "\n",
    "A | B | C ||  A' | B' |  C'\n",
    "--|---|---||-----|----|-----\n",
    "0 | 0 | 0 ||  0  | 0  |  0\n",
    "0 | 0 | 1 ||  1  | 0  |  1\n",
    "0 | 1 | 0 ||  1  | 1  |  1\n",
    "0 | 1 | 1 ||  0  | 1  |  1\n",
    "1 | 0 | 0 ||  1  | 0  |  1\n",
    "1 | 0 | 1 ||  1  | 1  |  1\n",
    "1 | 1 | 0 ||  1  | 0  |  1\n",
    "1 | 1 | 1 ||  1  | 1  |  0\n",
    "\n"
   ]
  },
  {
   "cell_type": "markdown",
   "metadata": {},
   "source": [
    "## Ejercicios\n",
    "\n",
    "1. Investigar al menos un autómata que pertenezca a cada clase y mostrar una figura con su evolución\n",
    "2. En el diagrama de la RBN ¿cuál es el atractor? ¿de qué estados sólo podemos partir? (haz un diagrama mostrando las transiciones para que lo observes)"
   ]
  },
  {
   "cell_type": "code",
   "execution_count": null,
   "metadata": {},
   "outputs": [],
   "source": []
  }
 ],
 "metadata": {
  "kernelspec": {
   "display_name": "Python 3",
   "language": "python",
   "name": "python3"
  },
  "language_info": {
   "codemirror_mode": {
    "name": "ipython",
    "version": 3
   },
   "file_extension": ".py",
   "mimetype": "text/x-python",
   "name": "python",
   "nbconvert_exporter": "python",
   "pygments_lexer": "ipython3",
   "version": "3.6.9"
  },
  "varInspector": {
   "cols": {
    "lenName": 16,
    "lenType": 16,
    "lenVar": 40
   },
   "kernels_config": {
    "python": {
     "delete_cmd_postfix": "",
     "delete_cmd_prefix": "del ",
     "library": "var_list.py",
     "varRefreshCmd": "print(var_dic_list())"
    },
    "r": {
     "delete_cmd_postfix": ") ",
     "delete_cmd_prefix": "rm(",
     "library": "var_list.r",
     "varRefreshCmd": "cat(var_dic_list()) "
    }
   },
   "types_to_exclude": [
    "module",
    "function",
    "builtin_function_or_method",
    "instance",
    "_Feature"
   ],
   "window_display": false
  }
 },
 "nbformat": 4,
 "nbformat_minor": 4
}
