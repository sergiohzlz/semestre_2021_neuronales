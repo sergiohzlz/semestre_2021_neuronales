{
 "cells": [
  {
   "cell_type": "markdown",
   "metadata": {},
   "source": [
    "# Transformaciones lineales\n"
   ]
  },
  {
   "cell_type": "code",
   "execution_count": null,
   "metadata": {},
   "outputs": [],
   "source": [
    "import numpy as np\n"
   ]
  },
  {
   "cell_type": "markdown",
   "metadata": {},
   "source": [
    "## Combinación lineal"
   ]
  },
  {
   "cell_type": "markdown",
   "metadata": {},
   "source": [
    "$$ v = \\lambda_1 x_1 + \\ldots + \\lambda_k x_k = \\sum_1^k \\lambda_i x_i \\in V $$"
   ]
  },
  {
   "cell_type": "markdown",
   "metadata": {},
   "source": [
    "### Dependencia lineal\n",
    "\n",
    "$$ 0 = \\sum_i^k \\lambda_i x_i $$"
   ]
  },
  {
   "cell_type": "markdown",
   "metadata": {},
   "source": [
    "## Transformación lineal"
   ]
  },
  {
   "cell_type": "markdown",
   "metadata": {},
   "source": [
    "$$\n",
    "\\Phi (x+y) = \\Phi(x) + \\Phi(y)\\\\\n",
    "\\Phi (\\lambda x) = \\lambda \\Phi(x)\n",
    "$$"
   ]
  },
  {
   "cell_type": "markdown",
   "metadata": {},
   "source": [
    "$$\n",
    "A = \\left [ \\begin{array}{cc}\n",
    "                   4 & 6\\\\\n",
    "                   3 & 3\\\\\n",
    "    \\end{array} \\right ]\n",
    "$$\n",
    "\n",
    "$$\n",
    "p_A ( \\lambda ) = det \\left (  \\left [ \\begin{array}{cc}\n",
    "                                            4 & 6\\\\\n",
    "                                            3 & 3\\\\\n",
    "                                      \\end{array} \\right ] \n",
    "                                         -\n",
    "                               \\left [ \\begin{array}{cc}\n",
    "                                            \\lambda & 0 \\\\\n",
    "                                            0 & \\lambda\\\\\n",
    "                                      \\end{array} \\right ]\n",
    "                        \\right ) = \\left | \\begin{array}{cc}\n",
    "                                           4- \\lambda & 6 \\\\\n",
    "                                            3 & 3-\\lambda\\\\\n",
    "                                      \\end{array}\n",
    "                                  \\right |\n",
    "$$\n",
    "\n",
    "$$\n",
    "p(\\lambda) = (4 - \\lambda) (3-\\lambda) - 2  \\Rightarrow  \\lambda_1 , \\lambda_2 = 2 , 5\n",
    "$$\n",
    "\n",
    "$$\n",
    "                                  \\left [ \\begin{array}{cc}\n",
    "                                           4- \\lambda & 6 \\\\\n",
    "                                            3 & 3-\\lambda\\\\\n",
    "                                      \\end{array}\n",
    "                                  \\right ] x = 0\n",
    "                                  \\Rightarrow\n",
    "                                  \\lambda = 5; x = \\left [ \\begin{array}{c}2, \\\\\n",
    "                                                          1 \\end{array} \\right] , \n",
    "                                  \\lambda = 2; x = \\left [ \\begin{array}{c}1, \\\\\n",
    "                                                          -1 \\end{array} \\right] \n",
    "$$"
   ]
  },
  {
   "cell_type": "code",
   "execution_count": null,
   "metadata": {},
   "outputs": [],
   "source": []
  }
 ],
 "metadata": {
  "kernelspec": {
   "display_name": "Python 3",
   "language": "python",
   "name": "python3"
  },
  "language_info": {
   "codemirror_mode": {
    "name": "ipython",
    "version": 3
   },
   "file_extension": ".py",
   "mimetype": "text/x-python",
   "name": "python",
   "nbconvert_exporter": "python",
   "pygments_lexer": "ipython3",
   "version": "3.6.9"
  },
  "varInspector": {
   "cols": {
    "lenName": 16,
    "lenType": 16,
    "lenVar": 40
   },
   "kernels_config": {
    "python": {
     "delete_cmd_postfix": "",
     "delete_cmd_prefix": "del ",
     "library": "var_list.py",
     "varRefreshCmd": "print(var_dic_list())"
    },
    "r": {
     "delete_cmd_postfix": ") ",
     "delete_cmd_prefix": "rm(",
     "library": "var_list.r",
     "varRefreshCmd": "cat(var_dic_list()) "
    }
   },
   "types_to_exclude": [
    "module",
    "function",
    "builtin_function_or_method",
    "instance",
    "_Feature"
   ],
   "window_display": false
  }
 },
 "nbformat": 4,
 "nbformat_minor": 4
}
