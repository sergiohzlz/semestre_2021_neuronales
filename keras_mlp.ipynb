{
 "cells": [
  {
   "cell_type": "code",
   "execution_count": 1,
   "metadata": {},
   "outputs": [],
   "source": [
    "import pandas as pd \n",
    "import numpy as np\n",
    "\n",
    "from sklearn.model_selection  import train_test_split\n",
    "from sklearn.preprocessing    import StandardScaler\n",
    "from sklearn.preprocessing    import MultiLabelBinarizer\n",
    "from sklearn.metrics          import classification_report, confusion_matrix\n",
    "\n",
    "from tensorflow.keras.models  import Sequential\n",
    "from tensorflow.keras.layers  import Dense, Dropout\n"
   ]
  },
  {
   "cell_type": "code",
   "execution_count": 6,
   "metadata": {},
   "outputs": [
    {
     "name": "stdout",
     "output_type": "stream",
     "text": [
      "/home/sergio/Yandex.Disk/clases/neuronales/BA_pmc\r\n"
     ]
    },
    {
     "data": {
      "text/html": [
       "<div>\n",
       "<style scoped>\n",
       "    .dataframe tbody tr th:only-of-type {\n",
       "        vertical-align: middle;\n",
       "    }\n",
       "\n",
       "    .dataframe tbody tr th {\n",
       "        vertical-align: top;\n",
       "    }\n",
       "\n",
       "    .dataframe thead th {\n",
       "        text-align: right;\n",
       "    }\n",
       "</style>\n",
       "<table border=\"1\" class=\"dataframe\">\n",
       "  <thead>\n",
       "    <tr style=\"text-align: right;\">\n",
       "      <th></th>\n",
       "      <th>compactness</th>\n",
       "      <th>circularity</th>\n",
       "      <th>dist_circularity</th>\n",
       "      <th>radius_ratio</th>\n",
       "      <th>pr_axis</th>\n",
       "      <th>max_length_ratio</th>\n",
       "      <th>scatter_ratio</th>\n",
       "      <th>elongatedness</th>\n",
       "      <th>pr_axis_rect</th>\n",
       "      <th>max_leng_regularity</th>\n",
       "      <th>scaled_var_major</th>\n",
       "      <th>scaled_var_minor</th>\n",
       "      <th>scaled_rad_gyration</th>\n",
       "      <th>skewness_major</th>\n",
       "      <th>skewness_minor</th>\n",
       "      <th>kurtosis_minor</th>\n",
       "      <th>kurtosis_major</th>\n",
       "      <th>hollows_ratio</th>\n",
       "      <th>class</th>\n",
       "    </tr>\n",
       "  </thead>\n",
       "  <tbody>\n",
       "    <tr>\n",
       "      <th>0</th>\n",
       "      <td>95</td>\n",
       "      <td>48</td>\n",
       "      <td>83</td>\n",
       "      <td>178</td>\n",
       "      <td>72</td>\n",
       "      <td>10</td>\n",
       "      <td>162</td>\n",
       "      <td>42</td>\n",
       "      <td>20</td>\n",
       "      <td>159</td>\n",
       "      <td>176</td>\n",
       "      <td>379</td>\n",
       "      <td>184</td>\n",
       "      <td>70</td>\n",
       "      <td>6</td>\n",
       "      <td>16</td>\n",
       "      <td>187</td>\n",
       "      <td>197</td>\n",
       "      <td>van</td>\n",
       "    </tr>\n",
       "    <tr>\n",
       "      <th>1</th>\n",
       "      <td>91</td>\n",
       "      <td>41</td>\n",
       "      <td>84</td>\n",
       "      <td>141</td>\n",
       "      <td>57</td>\n",
       "      <td>9</td>\n",
       "      <td>149</td>\n",
       "      <td>45</td>\n",
       "      <td>19</td>\n",
       "      <td>143</td>\n",
       "      <td>170</td>\n",
       "      <td>330</td>\n",
       "      <td>158</td>\n",
       "      <td>72</td>\n",
       "      <td>9</td>\n",
       "      <td>14</td>\n",
       "      <td>189</td>\n",
       "      <td>199</td>\n",
       "      <td>van</td>\n",
       "    </tr>\n",
       "    <tr>\n",
       "      <th>2</th>\n",
       "      <td>104</td>\n",
       "      <td>50</td>\n",
       "      <td>106</td>\n",
       "      <td>209</td>\n",
       "      <td>66</td>\n",
       "      <td>10</td>\n",
       "      <td>207</td>\n",
       "      <td>32</td>\n",
       "      <td>23</td>\n",
       "      <td>158</td>\n",
       "      <td>223</td>\n",
       "      <td>635</td>\n",
       "      <td>220</td>\n",
       "      <td>73</td>\n",
       "      <td>14</td>\n",
       "      <td>9</td>\n",
       "      <td>188</td>\n",
       "      <td>196</td>\n",
       "      <td>saab</td>\n",
       "    </tr>\n",
       "    <tr>\n",
       "      <th>3</th>\n",
       "      <td>93</td>\n",
       "      <td>41</td>\n",
       "      <td>82</td>\n",
       "      <td>159</td>\n",
       "      <td>63</td>\n",
       "      <td>9</td>\n",
       "      <td>144</td>\n",
       "      <td>46</td>\n",
       "      <td>19</td>\n",
       "      <td>143</td>\n",
       "      <td>160</td>\n",
       "      <td>309</td>\n",
       "      <td>127</td>\n",
       "      <td>63</td>\n",
       "      <td>6</td>\n",
       "      <td>10</td>\n",
       "      <td>199</td>\n",
       "      <td>207</td>\n",
       "      <td>van</td>\n",
       "    </tr>\n",
       "    <tr>\n",
       "      <th>4</th>\n",
       "      <td>85</td>\n",
       "      <td>44</td>\n",
       "      <td>70</td>\n",
       "      <td>205</td>\n",
       "      <td>103</td>\n",
       "      <td>52</td>\n",
       "      <td>149</td>\n",
       "      <td>45</td>\n",
       "      <td>19</td>\n",
       "      <td>144</td>\n",
       "      <td>241</td>\n",
       "      <td>325</td>\n",
       "      <td>188</td>\n",
       "      <td>127</td>\n",
       "      <td>9</td>\n",
       "      <td>11</td>\n",
       "      <td>180</td>\n",
       "      <td>183</td>\n",
       "      <td>bus</td>\n",
       "    </tr>\n",
       "  </tbody>\n",
       "</table>\n",
       "</div>"
      ],
      "text/plain": [
       "   compactness  circularity  dist_circularity  radius_ratio  pr_axis  \\\n",
       "0           95           48                83           178       72   \n",
       "1           91           41                84           141       57   \n",
       "2          104           50               106           209       66   \n",
       "3           93           41                82           159       63   \n",
       "4           85           44                70           205      103   \n",
       "\n",
       "   max_length_ratio  scatter_ratio  elongatedness  pr_axis_rect  \\\n",
       "0                10            162             42            20   \n",
       "1                 9            149             45            19   \n",
       "2                10            207             32            23   \n",
       "3                 9            144             46            19   \n",
       "4                52            149             45            19   \n",
       "\n",
       "   max_leng_regularity  scaled_var_major  scaled_var_minor  \\\n",
       "0                  159               176               379   \n",
       "1                  143               170               330   \n",
       "2                  158               223               635   \n",
       "3                  143               160               309   \n",
       "4                  144               241               325   \n",
       "\n",
       "   scaled_rad_gyration  skewness_major  skewness_minor  kurtosis_minor  \\\n",
       "0                  184              70               6              16   \n",
       "1                  158              72               9              14   \n",
       "2                  220              73              14               9   \n",
       "3                  127              63               6              10   \n",
       "4                  188             127               9              11   \n",
       "\n",
       "   kurtosis_major  hollows_ratio class  \n",
       "0             187            197   van  \n",
       "1             189            199   van  \n",
       "2             188            196  saab  \n",
       "3             199            207   van  \n",
       "4             180            183   bus  "
      ]
     },
     "execution_count": 6,
     "metadata": {},
     "output_type": "execute_result"
    }
   ],
   "source": [
    "!pwd\n",
    "df = pd.read_csv(\"../../../Z_datasets/auto.csv\")\n",
    "df.head()"
   ]
  },
  {
   "cell_type": "markdown",
   "metadata": {},
   "source": [
    "Como los datos tienen valores fuera del $[-3,3]$ donde la sigmoide y la tangente hiperbólica funcionan, entonces vamos a escalarlos."
   ]
  },
  {
   "cell_type": "code",
   "execution_count": 10,
   "metadata": {},
   "outputs": [
    {
     "data": {
      "text/plain": [
       "array([[ 0.16236242,  0.51220379,  0.05795792, ...,  0.37859592,\n",
       "        -0.3144815 ,  0.18254814],\n",
       "       [-0.32429188, -0.62407988,  0.12141055, ...,  0.1547051 ,\n",
       "         0.01000798,  0.45158325],\n",
       "       [ 1.25733459,  0.83685627,  1.51736843, ..., -0.40502194,\n",
       "        -0.15223676,  0.04803059],\n",
       "       ...,\n",
       "       [ 1.50066174,  1.48616123,  1.20010528, ..., -0.96474898,\n",
       "        -0.3144815 ,  0.72061836],\n",
       "       [-0.93260975, -1.43571108, -0.25930524, ...,  1.38610459,\n",
       "         0.17225272, -0.08648697],\n",
       "       [-1.05427333, -1.43571108, -1.02073681, ...,  0.60248673,\n",
       "        -0.47672624, -0.75907474]])"
      ]
     },
     "execution_count": 10,
     "metadata": {},
     "output_type": "execute_result"
    }
   ],
   "source": [
    "datos =  df.iloc[:,:-1]\n",
    "datos_s = StandardScaler().fit_transform(datos)\n",
    "datos_s"
   ]
  },
  {
   "cell_type": "code",
   "execution_count": 11,
   "metadata": {},
   "outputs": [
    {
     "data": {
      "text/plain": [
       "(843, 4)"
      ]
     },
     "execution_count": 11,
     "metadata": {},
     "output_type": "execute_result"
    }
   ],
   "source": [
    "dummies = pd.get_dummies(df)\n",
    "clasif  = dummies.iloc[:,-4:]\n",
    "clasif.shape"
   ]
  },
  {
   "cell_type": "markdown",
   "metadata": {},
   "source": [
    "Con esto nuestra variable de clasificación ahora va a estar codificada como un vector indicador donde la i-ésima variable es 1\n",
    "$$[0,\\ldots,1,\\ldots,0]$$"
   ]
  },
  {
   "cell_type": "markdown",
   "metadata": {},
   "source": [
    "Ahora lo que vamos a hacer es dividir nuestro conjunto de aprendizaje en conjunto de prueba y aprendizaje"
   ]
  },
  {
   "cell_type": "code",
   "execution_count": 13,
   "metadata": {},
   "outputs": [
    {
     "name": "stdout",
     "output_type": "stream",
     "text": [
      "(632, 18)   (211, 18)\n",
      "(632, 4)   (211, 4)\n"
     ]
    }
   ],
   "source": [
    "Xtr, Xts, ytr, yts = train_test_split(datos_s, clasif)\n",
    "print(Xtr.shape,\" \", Xts.shape)\n",
    "print(ytr.shape,\" \", yts.shape)"
   ]
  },
  {
   "cell_type": "markdown",
   "metadata": {},
   "source": [
    "## Keras"
   ]
  },
  {
   "cell_type": "markdown",
   "metadata": {},
   "source": [
    "Keras es una biblioeteca para implementar redes neuronales que usa como backend al menos dos motores, el más común es tensorflow (Google) de hecho ya se distribuye junto con TF en su versión 2.0.\n",
    "\n",
    "Consta de dos modalidades para crear capas de redes: Sequential, la más común, que funciona mediante el agregado de capas específicas que llevan a cabo alguna función como una capa de neuronas densas o bien una capa de Dropout, etcétera. La otra modalidad es la de Functional que permite más versatilidad para crear redes."
   ]
  },
  {
   "cell_type": "markdown",
   "metadata": {},
   "source": [
    "Un ejemplo muy directo es el siguiente. Para crear una red hay que crear el modelo, agregar las capas necesarias, definir la pérdida y el optimizador. Y al final evaluar el modelo.\n"
   ]
  },
  {
   "cell_type": "markdown",
   "metadata": {},
   "source": [
    "    ni = 18 # número de neuronas en la capa de entrada\n",
    "    nh = 4  # número de neuronas en la capa escondida\n",
    "    no = 4  # número de neuronas en la capa de salida (cantidad de clases)\n",
    "    model = Sequential()\n",
    "    model.add(Dense(nh, input_dim=ni, activation='tanh') )\n",
    "    model.add(Dense(no, activation='softmax'))   #ultima capa que usa softmax\n",
    "\n",
    "    #Ahora compilamos con la perdida 'categorical_crossentropy'\n",
    "    #con optimizador 'adam' -en vez de sgd- y la métrica es 'accuracy'\n",
    "\n",
    "    model.compile(loss='categorical_crossentropy', optimizer='adam', metrics=['accuracy'])"
   ]
  },
  {
   "cell_type": "markdown",
   "metadata": {},
   "source": [
    "Vamos a inspeccionar nuestro modelo"
   ]
  },
  {
   "cell_type": "markdown",
   "metadata": {},
   "source": [
    "    model.summary()\n",
    "    \n",
    "    Model: \"sequential_3\"\n",
    "    _________________________________________________________________\n",
    "    Layer (type)                 Output Shape              Param #   \n",
    "    =================================================================\n",
    "    dense_6 (Dense)              (None, 8)                 152       \n",
    "    _________________________________________________________________\n",
    "    dense_7 (Dense)              (None, 4)                 36        \n",
    "    =================================================================\n",
    "    Total params: 188\n",
    "    Trainable params: 188\n",
    "    Non-trainable params: 0\n",
    "    _________________________________________________________________"
   ]
  },
  {
   "cell_type": "markdown",
   "metadata": {},
   "source": [
    "Ya que hicimos esto ahora podemos entrenar nuestra red"
   ]
  },
  {
   "cell_type": "markdown",
   "metadata": {},
   "source": [
    "    model.fit(Xtr, ytr, epochs=300, verbose=1)"
   ]
  },
  {
   "cell_type": "markdown",
   "metadata": {},
   "source": [
    "Vamos a evaluar "
   ]
  },
  {
   "cell_type": "markdown",
   "metadata": {},
   "source": [
    "    model.evaluate(Xts, yts)\n",
    "\n",
    "    7/7 [==============================] - 0s 1ms/step - loss: 0.3824 - accuracy: 0.8199\n"
   ]
  },
  {
   "cell_type": "markdown",
   "metadata": {},
   "source": [
    "Ninguna maravilla pero nuestro modelo ya quedó entrenado."
   ]
  },
  {
   "cell_type": "markdown",
   "metadata": {},
   "source": [
    "    predics = model.predict_proba(Xts)"
   ]
  },
  {
   "cell_type": "markdown",
   "metadata": {},
   "source": [
    "    print(np.round(predics))"
   ]
  },
  {
   "cell_type": "markdown",
   "metadata": {},
   "source": [
    "Pero si queremos averiguar qué configuración tiene la mejor calificación variando la cantidad de neuronas intermedias podemos meter todo en un ciclo y podemos crear una función que genere la red de forma más sencilla"
   ]
  },
  {
   "cell_type": "code",
   "execution_count": 25,
   "metadata": {},
   "outputs": [],
   "source": [
    "def crea_modelo(ni, nh, no):\n",
    "    model = Sequential()\n",
    "    model.add(Dense(nh, input_dim=ni, activation='relu'))\n",
    "    model.add(Dense(no, activation='softmax'))\n",
    "    model.compile(loss='categorical_crossentropy', optimizer='adam', metrics=['accuracy'])\n",
    "    \n",
    "    return model\n",
    "\n",
    "nn1 = crea_modelo(ni, 4, no)\n",
    "nn2 = crea_modelo(ni, 6, no)\n",
    "nn3 = crea_modelo(ni, 8, no)\n"
   ]
  },
  {
   "cell_type": "markdown",
   "metadata": {},
   "source": [
    "Ahora podemos meter todo en un `for` para averiguar cuál es el mejor"
   ]
  },
  {
   "cell_type": "code",
   "execution_count": 27,
   "metadata": {},
   "outputs": [
    {
     "name": "stdout",
     "output_type": "stream",
     "text": [
      "Modelo con 4h escondidas\n",
      "7/7 [==============================] - 0s 1ms/step - loss: 0.3912 - accuracy: 0.7962\n",
      "              precision    recall  f1-score   support\n",
      "\n",
      "           0       0.98      0.96      0.97        50\n",
      "           1       0.75      0.49      0.59        55\n",
      "           2       0.62      0.74      0.67        53\n",
      "           3       0.94      0.96      0.95        53\n",
      "\n",
      "   micro avg       0.82      0.78      0.80       211\n",
      "   macro avg       0.82      0.79      0.80       211\n",
      "weighted avg       0.82      0.78      0.79       211\n",
      " samples avg       0.78      0.78      0.78       211\n",
      "\n",
      "Modelo con 6h escondidas\n"
     ]
    },
    {
     "name": "stderr",
     "output_type": "stream",
     "text": [
      "/usr/local/lib/python3.6/dist-packages/tensorflow/python/keras/engine/sequential.py:425: UserWarning: `model.predict_proba()` is deprecated and will be removed after 2021-01-01. Please use `model.predict()` instead.\n",
      "  warnings.warn('`model.predict_proba()` is deprecated and '\n",
      "/usr/local/lib/python3.6/dist-packages/sklearn/metrics/_classification.py:1221: UndefinedMetricWarning: Precision and F-score are ill-defined and being set to 0.0 in samples with no predicted labels. Use `zero_division` parameter to control this behavior.\n",
      "  _warn_prf(average, modifier, msg_start, len(result))\n"
     ]
    },
    {
     "name": "stdout",
     "output_type": "stream",
     "text": [
      "7/7 [==============================] - 0s 913us/step - loss: 0.3423 - accuracy: 0.8199\n",
      "              precision    recall  f1-score   support\n",
      "\n",
      "           0       0.98      1.00      0.99        50\n",
      "           1       0.69      0.62      0.65        55\n",
      "           2       0.65      0.60      0.63        53\n",
      "           3       0.95      1.00      0.97        53\n",
      "\n",
      "   micro avg       0.82      0.80      0.81       211\n",
      "   macro avg       0.82      0.81      0.81       211\n",
      "weighted avg       0.81      0.80      0.81       211\n",
      " samples avg       0.80      0.80      0.80       211\n",
      "\n",
      "Modelo con 8h escondidas\n"
     ]
    },
    {
     "name": "stderr",
     "output_type": "stream",
     "text": [
      "/usr/local/lib/python3.6/dist-packages/tensorflow/python/keras/engine/sequential.py:425: UserWarning: `model.predict_proba()` is deprecated and will be removed after 2021-01-01. Please use `model.predict()` instead.\n",
      "  warnings.warn('`model.predict_proba()` is deprecated and '\n",
      "/usr/local/lib/python3.6/dist-packages/sklearn/metrics/_classification.py:1221: UndefinedMetricWarning: Precision and F-score are ill-defined and being set to 0.0 in samples with no predicted labels. Use `zero_division` parameter to control this behavior.\n",
      "  _warn_prf(average, modifier, msg_start, len(result))\n"
     ]
    },
    {
     "name": "stdout",
     "output_type": "stream",
     "text": [
      "7/7 [==============================] - 0s 6ms/step - loss: 0.3542 - accuracy: 0.8057\n",
      "              precision    recall  f1-score   support\n",
      "\n",
      "           0       0.98      0.98      0.98        50\n",
      "           1       0.68      0.55      0.61        55\n",
      "           2       0.63      0.70      0.66        53\n",
      "           3       0.95      1.00      0.97        53\n",
      "\n",
      "   micro avg       0.81      0.80      0.80       211\n",
      "   macro avg       0.81      0.81      0.80       211\n",
      "weighted avg       0.81      0.80      0.80       211\n",
      " samples avg       0.80      0.80      0.80       211\n",
      "\n"
     ]
    },
    {
     "name": "stderr",
     "output_type": "stream",
     "text": [
      "/usr/local/lib/python3.6/dist-packages/tensorflow/python/keras/engine/sequential.py:425: UserWarning: `model.predict_proba()` is deprecated and will be removed after 2021-01-01. Please use `model.predict()` instead.\n",
      "  warnings.warn('`model.predict_proba()` is deprecated and '\n",
      "/usr/local/lib/python3.6/dist-packages/sklearn/metrics/_classification.py:1221: UndefinedMetricWarning: Precision and F-score are ill-defined and being set to 0.0 in samples with no predicted labels. Use `zero_division` parameter to control this behavior.\n",
      "  _warn_prf(average, modifier, msg_start, len(result))\n"
     ]
    }
   ],
   "source": [
    "n_epocas = 300 \n",
    "for lbl, model in [('4h', nn1), ('6h', nn2), ('8h',nn3)]:\n",
    "    print(\"Modelo con {} escondidas\".format(lbl))\n",
    "    model.fit(Xtr,ytr, epochs=n_epocas, verbose=0)\n",
    "    model.evaluate(Xts,yts)\n",
    "    preds = model.predict_proba(Xts)\n",
    "    reporte = classification_report(yts, np.round(preds))\n",
    "    print(reporte)"
   ]
  },
  {
   "cell_type": "markdown",
   "metadata": {},
   "source": [
    "En este caso la mejor red fue la última con 8 neuronas escondidas y función de activación `relu`"
   ]
  },
  {
   "cell_type": "code",
   "execution_count": null,
   "metadata": {},
   "outputs": [],
   "source": []
  }
 ],
 "metadata": {
  "kernelspec": {
   "display_name": "Python 3",
   "language": "python",
   "name": "python3"
  },
  "varInspector": {
   "cols": {
    "lenName": 16,
    "lenType": 16,
    "lenVar": 40
   },
   "kernels_config": {
    "python": {
     "delete_cmd_postfix": "",
     "delete_cmd_prefix": "del ",
     "library": "var_list.py",
     "varRefreshCmd": "print(var_dic_list())"
    },
    "r": {
     "delete_cmd_postfix": ") ",
     "delete_cmd_prefix": "rm(",
     "library": "var_list.r",
     "varRefreshCmd": "cat(var_dic_list()) "
    }
   },
   "types_to_exclude": [
    "module",
    "function",
    "builtin_function_or_method",
    "instance",
    "_Feature"
   ],
   "window_display": false
  }
 },
 "nbformat": 4,
 "nbformat_minor": 4
}
